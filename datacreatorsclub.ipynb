{
  "nbformat": 4,
  "nbformat_minor": 0,
  "metadata": {
    "colab": {
      "name": "datacreatorsclub.ipynb",
      "provenance": [],
      "collapsed_sections": [],
      "authorship_tag": "ABX9TyMY05N+sJ9fpDmPF2WdKVgl",
      "include_colab_link": true
    },
    "kernelspec": {
      "name": "python3",
      "display_name": "Python 3"
    },
    "language_info": {
      "name": "python"
    }
  },
  "cells": [
    {
      "cell_type": "markdown",
      "metadata": {
        "id": "view-in-github",
        "colab_type": "text"
      },
      "source": [
        "<a href=\"https://colab.research.google.com/github/Asif1310/3012/blob/main/datacreatorsclub.ipynb\" target=\"_parent\"><img src=\"https://colab.research.google.com/assets/colab-badge.svg\" alt=\"Open In Colab\"/></a>"
      ]
    },
    {
      "cell_type": "markdown",
      "source": [
        "This notebook scrapes the data from https://datacreators.club/ website. There is no misintention here, it just helps me quickly search if a creator is listed or not so that I could swiftly contribute to the site any new additions if needed."
      ],
      "metadata": {
        "id": "n509fRL4m0Xn"
      }
    },
    {
      "cell_type": "code",
      "execution_count": null,
      "metadata": {
        "id": "SYOPRQC2ZWaZ"
      },
      "outputs": [],
      "source": [
        "#importing necessary modules\n",
        "import requests #used to send HTTP request \n",
        "from bs4 import BeautifulSoup #used to parse the response recieved from web server\n",
        "import re #to work with regular expressions\n",
        "import pandas as pd #dataframes"
      ]
    },
    {
      "cell_type": "code",
      "source": [
        "url = \"https://datacreators.club/\" #storing url in a variable\n",
        "response = requests.get(url) #sending HTTP request\n",
        "res = response.text\n",
        "\n",
        "soup = BeautifulSoup(res)"
      ],
      "metadata": {
        "id": "54oGpMLQZbry"
      },
      "execution_count": null,
      "outputs": []
    },
    {
      "cell_type": "code",
      "source": [
        "data = []\n",
        "rows = soup.find_all(\"p\", attrs = {'class': 'ContentCreator_name__DFJ_e'})\n",
        "rows\n",
        "for i in rows:\n",
        "  d = str(i)\n",
        "  f = re.sub(\"<.*?>\",\" \",d) #we are trying to extract only the required text by replacing the unnecessary info with blank string using regex pattern\n",
        "  data.append(f)\n",
        "data\n",
        "df = pd.DataFrame(data)\n",
        "df\n"
      ],
      "metadata": {
        "id": "QZnnnu1yaF_y"
      },
      "execution_count": null,
      "outputs": []
    },
    {
      "cell_type": "code",
      "source": [
        "df[df[0].str.contains(\"name\") == True] # replace name with the first or last name of the person"
      ],
      "metadata": {
        "id": "W4U48Tuwbnpo"
      },
      "execution_count": null,
      "outputs": []
    }
  ]
}